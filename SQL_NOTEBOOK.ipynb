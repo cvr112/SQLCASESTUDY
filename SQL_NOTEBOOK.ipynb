{
 "cells": [
  {
   "cell_type": "code",
   "execution_count": 1,
   "metadata": {},
   "outputs": [],
   "source": [
    "import sqlite3\n",
    "from sqlite3 import Error\n",
    "\n",
    " \n",
    "def create_connection(db_file):\n",
    "    \"\"\" create a database connection to the SQLite database\n",
    "        specified by the db_file\n",
    "    :param db_file: database file\n",
    "    :return: Connection object or None\n",
    "    \"\"\"\n",
    "    conn = None\n",
    "    try:\n",
    "        conn = sqlite3.connect(db_file)\n",
    "        print(sqlite3.version)\n",
    "    except Error as e:\n",
    "        print(e)\n",
    " \n",
    "    return conn\n",
    "\n",
    " \n",
    "def select_all_tasks(conn):\n",
    "    \"\"\"\n",
    "    Query all rows in the tasks table\n",
    "    :param conn: the Connection object\n",
    "    :return:\n",
    "    \"\"\"\n",
    "    cur = conn.cursor()\n",
    "    \n",
    "    query1 = \"\"\"\n",
    "        SELECT *\n",
    "        FROM FACILITIES\n",
    "        \"\"\"\n",
    "    cur.execute(query1)\n",
    " \n",
    "    rows = cur.fetchall()\n",
    " \n",
    "    for row in rows:\n",
    "        print(row)\n",
    "\n",
    "\n",
    "def main():\n",
    "    database = \"sqlite_db_pythonsqlite.db\"\n",
    " \n",
    "    # create a database connection\n",
    "    conn = create_connection(database)\n",
    "    with conn: \n",
    "        print(\"2. Query all tasks\")\n",
    "        select_all_tasks(conn)\n",
    " "
   ]
  },
  {
   "cell_type": "code",
   "execution_count": 2,
   "metadata": {},
   "outputs": [
    {
     "name": "stdout",
     "output_type": "stream",
     "text": [
      "2.6.0\n",
      "2. Query all tasks\n",
      "(0, 'Tennis Court 1', 5, 25, 10000, 200)\n",
      "(1, 'Tennis Court 2', 5, 25, 8000, 200)\n",
      "(2, 'Badminton Court', 0, 15.5, 4000, 50)\n",
      "(3, 'Table Tennis', 0, 5, 320, 10)\n",
      "(4, 'Massage Room 1', 9.9, 80, 4000, 3000)\n",
      "(5, 'Massage Room 2', 9.9, 80, 4000, 3000)\n",
      "(6, 'Squash Court', 3.5, 17.5, 5000, 80)\n",
      "(7, 'Snooker Table', 0, 5, 450, 15)\n",
      "(8, 'Pool Table', 0, 5, 400, 15)\n"
     ]
    }
   ],
   "source": [
    "if __name__ == '__main__':\n",
    "    main()"
   ]
  },
  {
   "cell_type": "code",
   "execution_count": 7,
   "metadata": {},
   "outputs": [
    {
     "name": "stdout",
     "output_type": "stream",
     "text": [
      "2.6.0\n",
      "('Table Tennis', 180)\n",
      "('Snooker Table', 240)\n",
      "('Pool Table', 270)\n"
     ]
    }
   ],
   "source": [
    "conn = create_connection(\"sqlite_db_pythonsqlite.db\")\n",
    "cur = conn.cursor()\n",
    "query1 = \"\"\"\n",
    "        SELECT subq2.name,subq2.revenue from\n",
    "        (SELECT name,sum(totalcost) as revenue from\n",
    "        (SELECT f.name,\n",
    "            CASE WHEN m.memid =0\n",
    "            THEN f.guestcost * b.slots\n",
    "            ELSE f.membercost * b.slots\n",
    "            END AS totalcost\n",
    "        FROM FACILITIES f\n",
    "        INNER JOIN Bookings AS b ON f.facid = b.facid\n",
    "        INNER JOIN Members AS m ON m.memid = b.memid)subq\n",
    "        group by name) subq2 where subq2.revenue<1000\n",
    "        order by subq2.revenue\n",
    "        \"\"\"\n",
    "cur.execute(query1) \n",
    "rows = cur.fetchall() \n",
    "for row in rows:\n",
    "    print(row)\n"
   ]
  },
  {
   "cell_type": "code",
   "execution_count": 10,
   "metadata": {},
   "outputs": [
    {
     "name": "stdout",
     "output_type": "stream",
     "text": [
      "2.6.0\n",
      "('GUESTGUEST', None)\n",
      "('SmithDarren', 'JopletteJanice')\n",
      "('SmithDarren', 'ButtersGerald')\n",
      "('SmithDarren', 'OwenCharles')\n",
      "('SmithDarren', 'SmithJack')\n",
      "('SmithDarren', 'MackenzieAnna')\n",
      "('SmithTracy', 'Worthington-SmythHenry')\n",
      "('SmithTracy', 'PurviewMillicent')\n",
      "('SmithTracy', 'CrumpetErica')\n",
      "('RownamTim', 'BootheTim')\n",
      "('JopletteJanice', 'DareNancy')\n",
      "('JopletteJanice', 'JonesDavid')\n",
      "('ButtersGerald', 'GentingMatthew')\n",
      "('TracyBurton', 'StibbonsPonder')\n",
      "('DareNancy', None)\n",
      "('BootheTim', None)\n",
      "('StibbonsPonder', 'BakerAnne')\n",
      "('StibbonsPonder', 'BaderFlorence')\n",
      "('OwenCharles', None)\n",
      "('JonesDavid', 'JonesDouglas')\n",
      "('BakerAnne', None)\n",
      "('FarrellJemima', 'BakerTimothy')\n",
      "('FarrellJemima', 'PinkerDavid')\n",
      "('SmithJack', None)\n",
      "('BaderFlorence', 'SarwinRamnaresh')\n",
      "('BakerTimothy', 'CoplinJoan')\n",
      "('PinkerDavid', None)\n",
      "('GentingMatthew', 'RumneyHenrietta')\n",
      "('MackenzieAnna', None)\n",
      "('CoplinJoan', None)\n",
      "('SarwinRamnaresh', None)\n",
      "('JonesDouglas', None)\n",
      "('RumneyHenrietta', None)\n",
      "('FarrellDavid', None)\n",
      "('Worthington-SmythHenry', None)\n",
      "('PurviewMillicent', 'HuntJohn')\n",
      "('TupperwareHyacinth', None)\n",
      "('HuntJohn', None)\n",
      "('CrumpetErica', None)\n",
      "('SmithDarren', None)\n"
     ]
    }
   ],
   "source": [
    "conn = create_connection(\"sqlite_db_pythonsqlite.db\")\n",
    "cur = conn.cursor()\n",
    "query1 = \"\"\"\n",
    "        SELECT m1.surname||m1.firstname, m2.surname||m2.firstname AS recomName  FROM Members m1\n",
    "        LEFT JOIN Members m2\n",
    "        on m1.memid = m2.recommendedby\n",
    "        \"\"\"\n",
    "cur.execute(query1) \n",
    "rows = cur.fetchall() \n",
    "for row in rows:\n",
    "    print(row)\n"
   ]
  },
  {
   "cell_type": "code",
   "execution_count": 28,
   "metadata": {},
   "outputs": [
    {
     "name": "stdout",
     "output_type": "stream",
     "text": [
      "2.6.0\n",
      "('Badminton Court', 0)\n",
      "('Massage Room 1', 8751.600000000031)\n",
      "('Massage Room 2', 534.6000000000001)\n",
      "('Pool Table', 0)\n",
      "('Snooker Table', 0)\n",
      "('Squash Court', 1463.0)\n",
      "('Table Tennis', 0)\n",
      "('Tennis Court 1', 4785)\n",
      "('Tennis Court 2', 4410)\n"
     ]
    }
   ],
   "source": [
    "conn = create_connection(\"sqlite_db_pythonsqlite.db\")\n",
    "cur = conn.cursor()\n",
    "query1 = \"\"\"\n",
    "        SELECT  subq.name,sum(subq.totalcost) as revenue\n",
    "        FROM \n",
    "        (SELECT f.name,\n",
    "             CASE WHEN m.memid =0\n",
    "            THEN f.guestcost * b.slots\n",
    "            ELSE f.membercost * b.slots\n",
    "            END AS totalcost\n",
    "        FROM FACILITIES f\n",
    "        INNER JOIN Bookings AS b ON f.facid = b.facid\n",
    "        INNER JOIN Members AS m ON m.memid = b.memid where m.memid>0 )subq\n",
    "        group by name  \n",
    "        \n",
    "        \"\"\"\n",
    "cur.execute(query1) \n",
    "rows = cur.fetchall() \n",
    "for row in rows:\n",
    "    print(row)"
   ]
  },
  {
   "cell_type": "code",
   "execution_count": 31,
   "metadata": {},
   "outputs": [
    {
     "name": "stdout",
     "output_type": "stream",
     "text": [
      "2.6.0\n",
      "('07', 3517.600000000003)\n",
      "('08', 7370.600000000021)\n",
      "('09', 9056.000000000007)\n"
     ]
    }
   ],
   "source": [
    "  \n",
    "conn = create_connection(\"sqlite_db_pythonsqlite.db\")\n",
    "cur = conn.cursor()\n",
    "query1 = \"\"\"\n",
    "        SELECT  strftime('%m', subq.starttime) as month,sum(subq.totalcost) as revenue\n",
    "        FROM \n",
    "        (SELECT f.name,b.starttime,\n",
    "             CASE WHEN m.memid =0\n",
    "            THEN f.guestcost * b.slots\n",
    "            ELSE f.membercost * b.slots\n",
    "            END AS totalcost\n",
    "        FROM FACILITIES f\n",
    "        INNER JOIN Bookings AS b ON f.facid = b.facid\n",
    "        INNER JOIN Members AS m ON m.memid = b.memid where m.memid>0 )subq\n",
    "        group by month  \n",
    "        \n",
    "        \"\"\"\n",
    "cur.execute(query1) \n",
    "rows = cur.fetchall() \n",
    "for row in rows:\n",
    "    print(row)"
   ]
  },
  {
   "cell_type": "code",
   "execution_count": null,
   "metadata": {},
   "outputs": [],
   "source": []
  }
 ],
 "metadata": {
  "kernelspec": {
   "display_name": "Python 3",
   "language": "python",
   "name": "python3"
  },
  "language_info": {
   "codemirror_mode": {
    "name": "ipython",
    "version": 3
   },
   "file_extension": ".py",
   "mimetype": "text/x-python",
   "name": "python",
   "nbconvert_exporter": "python",
   "pygments_lexer": "ipython3",
   "version": "3.8.3"
  }
 },
 "nbformat": 4,
 "nbformat_minor": 4
}
